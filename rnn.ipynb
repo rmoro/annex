{
 "cells": [
  {
   "cell_type": "code",
   "execution_count": 23,
   "metadata": {
    "collapsed": true
   },
   "outputs": [],
   "source": [
    "%matplotlib inline\n",
    "\n",
    "#Source code with the blog post at http://monik.in/a-noobs-guide-to-implementing-rnn-lstm-using-tensorflow/\n",
    "import numpy as np\n",
    "import random\n",
    "from random import shuffle\n",
    "import tensorflow as tf\n",
    "import matplotlib.pyplot as plt\n",
    "import scipy.special as sps\n"
   ]
  },
  {
   "cell_type": "code",
   "execution_count": 24,
   "metadata": {
    "collapsed": false
   },
   "outputs": [
    {
     "data": {
      "image/png": "[encoded data removed]",
      "text/plain": [
       "<matplotlib.figure.Figure at 0x1150c6ba8>"
      ]
     },
     "metadata": {},
     "output_type": "display_data"
    }
   ],
   "source": [
    "shape, scale = 1000., 2. # mean and dispersion\n",
    "s = np.random.gamma(shape, scale, 1000)\n",
    "count, bins, ignored = plt.hist(s, 50, normed=True)\n",
    "y = bins**(shape-1)*(np.exp(-bins/scale) / (sps.gamma(shape)*scale**shape))\n",
    "plt.plot(bins, y, linewidth=2, color='r')\n",
    "plt.show()"
   ]
  },
  {
   "cell_type": "code",
   "execution_count": 25,
   "metadata": {
    "collapsed": false
   },
   "outputs": [
    {
     "data": {
      "text/plain": [
       "101.05683772243572"
      ]
     },
     "execution_count": 25,
     "metadata": {},
     "output_type": "execute_result"
    }
   ],
   "source": [
    "np.random.gamma(100, 1)"
   ]
  },
  {
   "cell_type": "code",
   "execution_count": 77,
   "metadata": {
    "collapsed": false
   },
   "outputs": [
    {
     "name": "stdout",
     "output_type": "stream",
     "text": [
      "Loaded 4490 events, 6 removed\n",
      "Loaded 17513 events, 0 removed\n",
      "Loaded 987 events, 0 removed\n"
     ]
    }
   ],
   "source": [
    "def load_keystrokes(log_file):\n",
    "    with open(log_file, 'r') as f:\n",
    "        data = [[int(i) for i in line.split(',')] for line in f]\n",
    "    data_count = len(data)\n",
    "    data = [x for x in data if x[0] > 0]\n",
    "    clean_data_count = len(data)\n",
    "\n",
    "    print(\"Loaded {} events, {} removed\".format(clean_data_count, data_count - clean_data_count))\n",
    "    return data\n",
    "\n",
    "david_data = load_keystrokes(\"annex/david.log\")\n",
    "robert_data = load_keystrokes(\"annex/robert.log\")\n",
    "marcel_data = load_keystrokes(\"annex/marcel2.log\")"
   ]
  },
  {
   "cell_type": "code",
   "execution_count": 64,
   "metadata": {
    "collapsed": false
   },
   "outputs": [],
   "source": [
    "# muddle positive time_delta data to generate negative samples\n",
    "NUM_EXAMPLES = 100\n",
    "SEQ_LENGTH = 200\n",
    "\n",
    "assert len(david_data) >= SEQ_LENGTH\n",
    "\n",
    "def random_sub_seq(xs):\n",
    "    # TODO extend to support variable size sequences\n",
    "    start = int(np.random.uniform(0, len(xs) - SEQ_LENGTH))\n",
    "    end = start + SEQ_LENGTH\n",
    "    return xs[start:end]\n",
    "\n",
    "def fuzz_datapoint(x, bias):\n",
    "    dt, char = x\n",
    "    # using gamma distribution since P(x <= 0) = 0 if x~Gamma(shape, scale), that is, prob of getting low dt's near 0 is low\n",
    "    scale = 1.5\n",
    "    return [np.random.gamma(dt / scale / bias, scale), char]\n",
    "\n",
    "train_input = []\n",
    "train_output = []\n",
    "\n",
    "for i in range(NUM_EXAMPLES * 10):\n",
    "    if np.random.rand() < 0.5:\n",
    "        # positive sample\n",
    "        train_input.append(random_sub_seq(david_data))\n",
    "        train_output.append([1, 0])\n",
    "    else:\n",
    "        # negative sample\n",
    "        train_input.append(random_sub_seq(marcel_data))\n",
    "        train_output.append([0, 1])"
   ]
  },
  {
   "cell_type": "code",
   "execution_count": 65,
   "metadata": {
    "collapsed": false
   },
   "outputs": [
    {
     "name": "stdout",
     "output_type": "stream",
     "text": [
      "avg seq len: 200.0\n",
      "min seq len: 200\n",
      "max seq len: 200\n"
     ]
    }
   ],
   "source": [
    "avg_seq_length = sum(len(x) for x in train_input) / len(train_input)\n",
    "min_seq_length = min(len(x) for x in train_input)\n",
    "max_seq_length = max(len(x) for x in train_input)\n",
    "print(\"avg seq len: {}\".format(avg_seq_length))\n",
    "print(\"min seq len: {}\".format(min_seq_length))\n",
    "print(\"max seq len: {}\".format(max_seq_length))"
   ]
  },
  {
   "cell_type": "code",
   "execution_count": 66,
   "metadata": {
    "collapsed": false
   },
   "outputs": [
    {
     "name": "stdout",
     "output_type": "stream",
     "text": [
      "test and training data loaded\n"
     ]
    }
   ],
   "source": [
    "test_input = train_input[NUM_EXAMPLES:]\n",
    "test_output = train_output[NUM_EXAMPLES:]\n",
    "train_input = train_input[:NUM_EXAMPLES]\n",
    "train_output = train_output[:NUM_EXAMPLES]\n",
    "\n",
    "print(\"test and training data loaded\")"
   ]
  },
  {
   "cell_type": "code",
   "execution_count": 12,
   "metadata": {
    "collapsed": false
   },
   "outputs": [
    {
     "name": "stderr",
     "output_type": "stream",
     "text": [
      "/usr/local/lib/python3.5/site-packages/tensorflow/python/ops/gradients.py:89: UserWarning: Converting sparse IndexedSlices to a dense Tensor of unknown shape. This may consume a large amount of memory.\n",
      "  \"Converting sparse IndexedSlices to a dense Tensor of unknown shape. \"\n"
     ]
    }
   ],
   "source": [
    "data = tf.placeholder(tf.float32, [None, SEQ_LENGTH,2]) #Number of examples, number of input, dimension of each input\n",
    "target = tf.placeholder(tf.float32, [None, 2])\n",
    "num_hidden = 24\n",
    "cell = tf.nn.rnn_cell.LSTMCell(num_hidden,state_is_tuple=True)\n",
    "val, _ = tf.nn.dynamic_rnn(cell, data, dtype=tf.float32)\n",
    "val = tf.transpose(val, [1, 0, 2])\n",
    "last = tf.gather(val, int(val.get_shape()[0]) - 1)\n",
    "weight = tf.Variable(tf.truncated_normal([num_hidden, int(target.get_shape()[1])]))\n",
    "bias = tf.Variable(tf.constant(0.1, shape=[target.get_shape()[1]]))\n",
    "prediction = tf.nn.softmax(tf.matmul(last, weight) + bias)\n",
    "cross_entropy = -tf.reduce_sum(target * tf.log(prediction))\n",
    "optimizer = tf.train.AdamOptimizer()\n",
    "minimize = optimizer.minimize(cross_entropy)\n",
    "mistakes = tf.not_equal(tf.argmax(target, 1), tf.argmax(prediction, 1))\n",
    "error = tf.reduce_mean(tf.cast(mistakes, tf.float32))"
   ]
  },
  {
   "cell_type": "code",
   "execution_count": 13,
   "metadata": {
    "collapsed": true
   },
   "outputs": [],
   "source": [
    "sess = tf.Session()"
   ]
  },
  {
   "cell_type": "code",
   "execution_count": 14,
   "metadata": {
    "collapsed": false
   },
   "outputs": [],
   "source": [
    "saver = tf.train.Saver()"
   ]
  },
  {
   "cell_type": "code",
   "execution_count": 15,
   "metadata": {
    "collapsed": false
   },
   "outputs": [
    {
     "name": "stdout",
     "output_type": "stream",
     "text": [
      "Model restored.\n"
     ]
    }
   ],
   "source": [
    "saver.restore(sess, \"model.ckpt\")\n",
    "print(\"Model restored.\")"
   ]
  },
  {
   "cell_type": "code",
   "execution_count": null,
   "metadata": {
    "collapsed": true
   },
   "outputs": [],
   "source": [
    "init_op = tf.initialize_all_variables()\n",
    "sess.run(init_op)"
   ]
  },
  {
   "cell_type": "code",
   "execution_count": 74,
   "metadata": {
    "collapsed": false
   },
   "outputs": [
    {
     "name": "stdout",
     "output_type": "stream",
     "text": [
      "Batch size: 10 || batches: 10 || epochs: 10\n",
      "Epoch  0 error 13.0%\n",
      "Epoch 10 error 12.8%\n"
     ]
    }
   ],
   "source": [
    "batch_size = 10\n",
    "no_of_batches = int(len(train_input)) // batch_size\n",
    "epoch = 10\n",
    "print(\"Batch size: {} || batches: {} || epochs: {}\".format(batch_size, no_of_batches, epoch))\n",
    "for i in range(epoch):\n",
    "    ptr = 0\n",
    "    for j in range(no_of_batches):\n",
    "        inp, out = train_input[ptr:ptr+batch_size], train_output[ptr:ptr+batch_size]\n",
    "        ptr+=batch_size\n",
    "        sess.run(minimize,{data: inp, target: out})\n",
    "    \n",
    " \n",
    "    if i % 10 == 0:\n",
    "        incorrect = sess.run(error,{data: test_input, target: test_output})\n",
    "        print('Epoch {:2d} error {:3.1f}%'.format(i, 100 * incorrect))\n",
    "    else:\n",
    "        pass #print(\"Epoch \",str(i))\n",
    "    save_path = saver.save(sess, \"model.ckpt\")\n",
    "\n",
    "incorrect = sess.run(error,{data: test_input, target: test_output})\n",
    "#print(sess.run(prediction,{data: [[[1],[0],[0],[1],[1],[0],[1],[1],[1],[0],[1],[0],[0],[1],[1],[0],[1],[1],[1],[0]]]}))\n",
    "print('Epoch {:2d} error {:3.1f}%'.format(i + 1, 100 * incorrect))"
   ]
  },
  {
   "cell_type": "code",
   "execution_count": 75,
   "metadata": {
    "collapsed": false
   },
   "outputs": [],
   "source": [
    "good = [test_input[i] for i in range(len(test_output)) if test_output[i] == [1, 0]]\n",
    "bad = [test_input[i] for i in range(len(test_output)) if test_output[i] == [0, 1]]\n",
    "bad = [[[b[0], b[1]] for g, b in zip(good[i], bad[i])] for i in range(min(len(good), len(bad)))]"
   ]
  },
  {
   "cell_type": "code",
   "execution_count": 76,
   "metadata": {
    "collapsed": false
   },
   "outputs": [
    {
     "data": {
      "text/plain": [
       "(array([ 0.84376222,  0.15623771], dtype=float32),\n",
       " array([ 0.1489425 ,  0.85105723], dtype=float32))"
      ]
     },
     "execution_count": 76,
     "metadata": {},
     "output_type": "execute_result"
    }
   ],
   "source": [
    "sess.run(prediction,{data: good}).mean(axis=0), sess.run(prediction,{data: bad}).mean(axis=0)"
   ]
  },
  {
   "cell_type": "code",
   "execution_count": 62,
   "metadata": {
    "collapsed": false
   },
   "outputs": [
    {
     "name": "stdout",
     "output_type": "stream",
     "text": [
      "Model saved in file: model.ckpt\n"
     ]
    }
   ],
   "source": [
    "save_path = saver.save(sess, \"model.ckpt\")\n",
    "print(\"Model saved in file: %s\" % save_path)"
   ]
  },
  {
   "cell_type": "code",
   "execution_count": 171,
   "metadata": {
    "collapsed": false
   },
   "outputs": [
    {
     "name": "stdout",
     "output_type": "stream",
     "text": [
      "Loaded 4823 events, 3 removed\n",
      "[ 0.05279499  0.94720507]\n"
     ]
    }
   ],
   "source": [
    "current_keystrokes = load_keystrokes('./annex/key_logging/keystroke.log')[-SEQ_LENGTH:]\n",
    "\n",
    "inp, out = [current_keystrokes], [[1,0]]\n",
    "\n",
    "print(sess.run(prediction,{data: inp}).mean(axis=0))\n",
    "#sess.run(minimize,{data: inp, target: out})\n",
    "#print(sess.run(prediction,{data: [current_keystrokes]}).mean(axis=0))"
   ]
  },
  {
   "cell_type": "code",
   "execution_count": null,
   "metadata": {
    "collapsed": false
   },
   "outputs": [],
   "source": [
    "log_file = \"recent2.log\"\n",
    "with open(log_file, 'r') as f:\n",
    "    raw_data = [[int(i) for i in line.split(',')] for line in f]\n",
    "\n",
    "raw_data_count = len(raw_data)\n",
    "raw_data = [x for x in raw_data if x[0] > 0]\n",
    "clean_data_count = len(raw_data)\n",
    "raw_data = raw_data[:-50]\n",
    "print(\"Loaded {} events, {} removed\".format(clean_data_count, raw_data_count - clean_data_count))"
   ]
  },
  {
   "cell_type": "code",
   "execution_count": null,
   "metadata": {
    "collapsed": false
   },
   "outputs": [],
   "source": [
    "sess.run(error,{data: [random_sub_seq(raw_data) for _ in range(100)]}).mean(axis=0)"
   ]
  },
  {
   "cell_type": "code",
   "execution_count": null,
   "metadata": {
    "collapsed": true
   },
   "outputs": [],
   "source": [
    "sess.close()"
   ]
  },
  {
   "cell_type": "code",
   "execution_count": 20,
   "metadata": {
    "collapsed": false
   },
   "outputs": [
    {
     "ename": "TypeError",
     "evalue": "unorderable types: list() < int()",
     "output_type": "error",
     "traceback": [
      "\u001b[0;31m---------------------------------------------------------------------------\u001b[0m",
      "\u001b[0;31mTypeError\u001b[0m                                 Traceback (most recent call last)",
      "\u001b[0;32m<ipython-input-20-fcca93c83c7c>\u001b[0m in \u001b[0;36m<module>\u001b[0;34m()\u001b[0m\n\u001b[0;32m----> 1\u001b[0;31m \u001b[0mlen\u001b[0m\u001b[0;34m(\u001b[0m\u001b[0;34m[\u001b[0m\u001b[0mx\u001b[0m \u001b[0;32mfor\u001b[0m \u001b[0mx\u001b[0m \u001b[0;32min\u001b[0m \u001b[0mgood\u001b[0m \u001b[0;32mif\u001b[0m \u001b[0mx\u001b[0m\u001b[0;34m[\u001b[0m\u001b[0;36m0\u001b[0m\u001b[0;34m]\u001b[0m \u001b[0;34m<\u001b[0m \u001b[0;36m10\u001b[0m\u001b[0;34m]\u001b[0m\u001b[0;34m)\u001b[0m\u001b[0;34m\u001b[0m\u001b[0m\n\u001b[0m",
      "\u001b[0;32m<ipython-input-20-fcca93c83c7c>\u001b[0m in \u001b[0;36m<listcomp>\u001b[0;34m(.0)\u001b[0m\n\u001b[0;32m----> 1\u001b[0;31m \u001b[0mlen\u001b[0m\u001b[0;34m(\u001b[0m\u001b[0;34m[\u001b[0m\u001b[0mx\u001b[0m \u001b[0;32mfor\u001b[0m \u001b[0mx\u001b[0m \u001b[0;32min\u001b[0m \u001b[0mgood\u001b[0m \u001b[0;32mif\u001b[0m \u001b[0mx\u001b[0m\u001b[0;34m[\u001b[0m\u001b[0;36m0\u001b[0m\u001b[0;34m]\u001b[0m \u001b[0;34m<\u001b[0m \u001b[0;36m10\u001b[0m\u001b[0;34m]\u001b[0m\u001b[0;34m)\u001b[0m\u001b[0;34m\u001b[0m\u001b[0m\n\u001b[0m",
      "\u001b[0;31mTypeError\u001b[0m: unorderable types: list() < int()"
     ]
    }
   ],
   "source": [
    "len([x for x in good if x[0] < 10])"
   ]
  },
  {
   "cell_type": "code",
   "execution_count": null,
   "metadata": {
    "collapsed": false
   },
   "outputs": [],
   "source": []
  },
  {
   "cell_type": "code",
   "execution_count": null,
   "metadata": {
    "collapsed": true
   },
   "outputs": [],
   "source": []
  }
 ],
 "metadata": {
  "kernelspec": {
   "display_name": "Python 3",
   "language": "python",
   "name": "python3"
  },
  "language_info": {
   "codemirror_mode": {
    "name": "ipython",
    "version": 3
   },
   "file_extension": ".py",
   "mimetype": "text/x-python",
   "name": "python",
   "nbconvert_exporter": "python",
   "pygments_lexer": "ipython3",
   "version": "3.5.2"
  }
 },
 "nbformat": 4,
 "nbformat_minor": 0
}
