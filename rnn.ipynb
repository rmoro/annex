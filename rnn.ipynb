{
 "cells": [
  {
   "cell_type": "code",
   "execution_count": 14,
   "metadata": {
    "collapsed": true
   },
   "outputs": [],
   "source": [
    "%matplotlib inline\n",
    "\n",
    "#Source code with the blog post at http://monik.in/a-noobs-guide-to-implementing-rnn-lstm-using-tensorflow/\n",
    "import numpy as np\n",
    "import random\n",
    "from random import shuffle\n",
    "import tensorflow as tf\n",
    "import matplotlib.pyplot as plt\n",
    "import scipy.special as sps\n",
    "from IPython import display\n",
    "import time"
   ]
  },
  {
   "cell_type": "code",
   "execution_count": 2,
   "metadata": {
    "collapsed": false
   },
   "outputs": [
    {
     "name": "stdout",
     "output_type": "stream",
     "text": [
      "Loaded 99928 events, 104 removed\n",
      "Loaded 204000 events, 0 removed\n"
     ]
    }
   ],
   "source": [
    "def load_keystrokes(log_file):\n",
    "    with open(log_file, 'r') as f:\n",
    "        data = [[int(i) for i in line.split(',')] for line in f]\n",
    "    data_count = len(data)\n",
    "    data = [x for x in data if x[0] > 0]\n",
    "    clean_data_count = len(data)\n",
    "\n",
    "    print(\"Loaded {} events, {} removed\".format(clean_data_count, data_count - clean_data_count))\n",
    "    return data\n",
    "\n",
    "david_data = load_keystrokes(\"key_logging/keystroke.log\")\n",
    "robert_data = load_keystrokes(\"all_dsl.log\")"
   ]
  },
  {
   "cell_type": "code",
   "execution_count": 4,
   "metadata": {
    "collapsed": false
   },
   "outputs": [],
   "source": [
    "# muddle positive time_delta data to generate negative samples\n",
    "NUM_EXAMPLES = 10000\n",
    "SEQ_LENGTH = 200\n",
    "\n",
    "assert all(len(data) >= SEQ_LENGTH for data in [david_data, robert_data]), 'need at least SEQ_LENGTH events'\n",
    "\n",
    "def random_sub_seq(xs):\n",
    "    # TODO extend to support variable size sequences\n",
    "    start = int(np.random.uniform(0, len(xs) - SEQ_LENGTH))\n",
    "    end = start + SEQ_LENGTH\n",
    "    return xs[start:end]\n",
    "\n",
    "train_input = []\n",
    "train_output = []\n",
    "\n",
    "for i in range(NUM_EXAMPLES * 10):\n",
    "    if np.random.rand() < 0.5:\n",
    "        # positive sample\n",
    "        train_input.append(random_sub_seq(david_data))\n",
    "        train_output.append([1, 0])\n",
    "    else:\n",
    "        # negative sample\n",
    "        train_input.append(random_sub_seq(robert_data))\n",
    "        train_output.append([0, 1])"
   ]
  },
  {
   "cell_type": "code",
   "execution_count": 5,
   "metadata": {
    "collapsed": false
   },
   "outputs": [
    {
     "name": "stdout",
     "output_type": "stream",
     "text": [
      "test and training data loaded\n"
     ]
    }
   ],
   "source": [
    "test_input = train_input[NUM_EXAMPLES:]\n",
    "test_output = train_output[NUM_EXAMPLES:]\n",
    "train_input = train_input[:NUM_EXAMPLES]\n",
    "train_output = train_output[:NUM_EXAMPLES]\n",
    "\n",
    "print(\"test and training data loaded\")"
   ]
  },
  {
   "cell_type": "code",
   "execution_count": 6,
   "metadata": {
    "collapsed": false
   },
   "outputs": [
    {
     "name": "stderr",
     "output_type": "stream",
     "text": [
      "/usr/local/lib/python3.5/site-packages/tensorflow/python/ops/gradients.py:89: UserWarning: Converting sparse IndexedSlices to a dense Tensor of unknown shape. This may consume a large amount of memory.\n",
      "  \"Converting sparse IndexedSlices to a dense Tensor of unknown shape. \"\n"
     ]
    }
   ],
   "source": [
    "data = tf.placeholder(tf.float32, [None, SEQ_LENGTH,2]) #Number of examples, number of input, dimension of each input\n",
    "target = tf.placeholder(tf.float32, [None, 2])\n",
    "num_hidden = 24\n",
    "cell = tf.nn.rnn_cell.LSTMCell(num_hidden,state_is_tuple=True)\n",
    "val, _ = tf.nn.dynamic_rnn(cell, data, dtype=tf.float32)\n",
    "val = tf.transpose(val, [1, 0, 2])\n",
    "last = tf.gather(val, int(val.get_shape()[0]) - 1)\n",
    "weight = tf.Variable(tf.truncated_normal([num_hidden, int(target.get_shape()[1])]))\n",
    "bias = tf.Variable(tf.constant(0.1, shape=[target.get_shape()[1]]))\n",
    "prediction = tf.nn.softmax(tf.matmul(last, weight) + bias)\n",
    "cross_entropy = -tf.reduce_sum(target * tf.log(prediction))\n",
    "optimizer = tf.train.AdamOptimizer()\n",
    "minimize = optimizer.minimize(cross_entropy)\n",
    "mistakes = tf.not_equal(tf.argmax(target, 1), tf.argmax(prediction, 1))\n",
    "error = tf.reduce_mean(tf.cast(mistakes, tf.float32))"
   ]
  },
  {
   "cell_type": "code",
   "execution_count": 7,
   "metadata": {
    "collapsed": false
   },
   "outputs": [],
   "source": [
    "sess = tf.Session()\n",
    "saver = tf.train.Saver()"
   ]
  },
  {
   "cell_type": "code",
   "execution_count": 8,
   "metadata": {
    "collapsed": false
   },
   "outputs": [
    {
     "name": "stdout",
     "output_type": "stream",
     "text": [
      "Model restored.\n"
     ]
    }
   ],
   "source": [
    "saver.restore(sess, \"model.ckpt\")\n",
    "print(\"Model restored.\")"
   ]
  },
  {
   "cell_type": "code",
   "execution_count": 22,
   "metadata": {
    "collapsed": false
   },
   "outputs": [
    {
     "name": "stdout",
     "output_type": "stream",
     "text": [
      "inited vars\n"
     ]
    }
   ],
   "source": [
    "# CAREFUL!!!! only run this cell if you want to clear the model\n",
    "# if you are restoring from an existing model, don't run this cell\n",
    "\n",
    "init_op = tf.initialize_all_variables()\n",
    "sess.run(init_op)\n",
    "print(\"inited vars\")"
   ]
  },
  {
   "cell_type": "code",
   "execution_count": 31,
   "metadata": {
    "collapsed": false
   },
   "outputs": [
    {
     "data": {
      "image/png": "[encoded data removed]",
      "text/plain": [
       "<matplotlib.figure.Figure at 0x1154da0b8>"
      ]
     },
     "metadata": {},
     "output_type": "display_data"
    },
    {
     "name": "stdout",
     "output_type": "stream",
     "text": [
      "Epoch 10 error 4.7%\n"
     ]
    },
    {
     "data": {
      "image/png": "[encoded data removed]",
      "text/plain": [
       "<matplotlib.figure.Figure at 0x1154da0b8>"
      ]
     },
     "metadata": {},
     "output_type": "display_data"
    }
   ],
   "source": [
    "batch_size = 10\n",
    "no_of_batches = int(len(train_input)) // batch_size\n",
    "epoch = 10\n",
    "print(\"Batch size: {} || batches: {} || epochs: {}\".format(batch_size, no_of_batches, epoch))\n",
    "\n",
    "error_per_epoch = []\n",
    "\n",
    "for i in range(epoch):\n",
    "    ptr = 0\n",
    "    for j in range(no_of_batches):\n",
    "        inp, out = train_input[ptr:ptr+batch_size], train_output[ptr:ptr+batch_size]\n",
    "        ptr+=batch_size\n",
    "        sess.run(minimize,{data: inp, target: out})\n",
    "    \n",
    " \n",
    "    if i % 1 == 0:\n",
    "        incorrect = sess.run(error,{data: test_input, target: test_output})\n",
    "        error_per_epoch.append(incorrect)\n",
    "        plt.plot(error_per_epoch, color='b')\n",
    "        display.clear_output(wait=True)\n",
    "        display.display(plt.gcf())\n",
    "    \n",
    "    # --- comment this out if you don't want to overwrite existing model\n",
    "    save_path = saver.save(sess, \"model.ckpt\")\n",
    "\n",
    "incorrect = sess.run(error,{data: test_input, target: test_output})\n",
    "print('Epoch {:2d} error {:3.1f}%'.format(i + 1, 100 * incorrect))"
   ]
  },
  {
   "cell_type": "code",
   "execution_count": 9,
   "metadata": {
    "collapsed": false
   },
   "outputs": [],
   "source": [
    "good = [test_input[i] for i in range(len(test_output)) if test_output[i] == [1, 0]]\n",
    "bad = [test_input[i] for i in range(len(test_output)) if test_output[i] == [0, 1]]"
   ]
  },
  {
   "cell_type": "code",
   "execution_count": 10,
   "metadata": {
    "collapsed": false
   },
   "outputs": [
    {
     "name": "stdout",
     "output_type": "stream",
     "text": [
      "true positive:  0.901837\n",
      "true negative:  0.99999\n"
     ]
    }
   ],
   "source": [
    "print(\"true positive: \", sess.run(prediction,{data: good}).mean(axis=0)[0])\n",
    "print(\"true negative: \", sess.run(prediction,{data: bad}).mean(axis=0)[1])"
   ]
  },
  {
   "cell_type": "code",
   "execution_count": 11,
   "metadata": {
    "collapsed": false
   },
   "outputs": [
    {
     "name": "stdout",
     "output_type": "stream",
     "text": [
      "45025 44975\n"
     ]
    }
   ],
   "source": [
    "print(len(good), len(bad))"
   ]
  },
  {
   "cell_type": "code",
   "execution_count": 17,
   "metadata": {
    "collapsed": false
   },
   "outputs": [
    {
     "name": "stdout",
     "output_type": "stream",
     "text": [
      "Model saved in file: model.ckpt\n"
     ]
    }
   ],
   "source": [
    "save_path = saver.save(sess, \"model.ckpt\")\n",
    "print(\"Model saved in file: %s\" % save_path)"
   ]
  },
  {
   "cell_type": "code",
   "execution_count": null,
   "metadata": {
    "collapsed": true
   },
   "outputs": [],
   "source": []
  },
  {
   "cell_type": "code",
   "execution_count": 28,
   "metadata": {
    "collapsed": false
   },
   "outputs": [
    {
     "data": {
      "image/png": "[encoded data removed]",
      "text/plain": [
       "<matplotlib.figure.Figure at 0x11e5b6b70>"
      ]
     },
     "metadata": {},
     "output_type": "display_data"
    },
    {
     "data": {
      "image/png": "[encoded data removed]",
      "text/plain": [
       "<matplotlib.figure.Figure at 0x11e5b6b70>"
      ]
     },
     "metadata": {},
     "output_type": "display_data"
    }
   ],
   "source": [
    "# --- classify the latest keystrokes ----\n",
    "history = []\n",
    "for i in range(50):\n",
    "    current_keystrokes = load_keystrokes('./key_logging/keystroke.log')[-SEQ_LENGTH:]\n",
    "\n",
    "    inp, out = [current_keystrokes], [[1,0]]\n",
    "    result = sess.run(prediction,{data: inp}).mean(axis=0)\n",
    "    print('blah')\n",
    "    history.append((result[0] - 0.5) * 2)\n",
    "    plt.scatter(range(len(history)), history, color=['g' if h > 0 else 'r' for h in history])\n",
    "    plt.plot([0] * len(history), color='b')\n",
    "    \n",
    "    display.clear_output(wait=True)\n",
    "    display.display(plt.gcf())\n",
    "    time.sleep(1)\n",
    "\n",
    "# --- can retrain model with this data --- \n",
    "#sess.run(minimize,{data: inp, target: out})\n",
    "#print(sess.run(prediction,{data: [current_keystrokes]}).mean(axis=0))"
   ]
  },
  {
   "cell_type": "code",
   "execution_count": null,
   "metadata": {
    "collapsed": true
   },
   "outputs": [],
   "source": [
    "# don't run this before you save the model if you want to save the model\n",
    "sess.close()"
   ]
  }
 ],
 "metadata": {
  "kernelspec": {
   "display_name": "Python 3",
   "language": "python",
   "name": "python3"
  },
  "language_info": {
   "codemirror_mode": {
    "name": "ipython",
    "version": 3
   },
   "file_extension": ".py",
   "mimetype": "text/x-python",
   "name": "python",
   "nbconvert_exporter": "python",
   "pygments_lexer": "ipython3",
   "version": "3.5.2"
  }
 },
 "nbformat": 4,
 "nbformat_minor": 0
}
