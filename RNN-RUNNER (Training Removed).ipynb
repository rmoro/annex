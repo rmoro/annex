{
 "cells": [
  {
   "cell_type": "code",
   "execution_count": 1,
   "metadata": {
    "collapsed": true
   },
   "outputs": [],
   "source": [
    "%matplotlib inline\n",
    "\n",
    "#Source code with the blog post at http://monik.in/a-noobs-guide-to-implementing-rnn-lstm-using-tensorflow/\n",
    "import numpy as np\n",
    "import random\n",
    "from random import shuffle\n",
    "import tensorflow as tf\n",
    "import matplotlib.pyplot as plt\n",
    "import scipy.special as sps\n",
    "from IPython import display\n",
    "import time\n"
   ]
  },
  {
   "cell_type": "code",
   "execution_count": 13,
   "metadata": {
    "collapsed": false
   },
   "outputs": [
    {
     "name": "stdout",
     "output_type": "stream",
     "text": [
      "Loaded 52523 events, 1 removed\n",
      "Loaded 100783 events, 13 removed\n"
     ]
    }
   ],
   "source": [
    "def load_keystrokes(log_file):\n",
    "    #these numbers affect the caps on normalized values (anything over max = 1)\n",
    "    MAX_CHAR = 255\n",
    "    MIN_CHAR = 0\n",
    "\n",
    "    # likewise anything under min is 0\n",
    "    MIN_TIME = 10\n",
    "    MAX_TIME = 5000\n",
    "\n",
    "    IN_FILE = log_file\n",
    "    OUT_FILE = \"normal_\"+log_file\n",
    "\n",
    "    import math\n",
    "\n",
    "    def gaus_norm(x, MIN, MAX):\n",
    "        return (float(x - MIN)/float(MAX-MIN))\n",
    "    \n",
    "    data = []\n",
    "    with open(IN_FILE, 'r') as fin:\n",
    "        for i, line in enumerate(fin):\n",
    "            time, char = line.split(',')\n",
    "            time, char = int(time), int(char)\n",
    "            if i == 0 :\n",
    "                last_char = char\n",
    "                continue\n",
    "            if time > MAX_TIME or time < MIN_TIME:\n",
    "                #print('time error value [{}] found, skipping'.format(time))\n",
    "                continue\n",
    "            else:\n",
    "                    new_time = gaus_norm(time, MIN_TIME, MAX_TIME)\n",
    "                    new_char = gaus_norm(char, MIN_CHAR, MAX_CHAR)\n",
    "                    new_last_char = gaus_norm(last_char, MIN_CHAR, MAX_CHAR)\n",
    "                    data.append([new_last_char, new_time, new_char])\n",
    "    data_count = len(data)\n",
    "    data = [x for x in data if x[1] > 0]\n",
    "    clean_data_count = len(data)\n",
    "\n",
    "    print(\"Loaded {} events, {} removed\".format(clean_data_count, data_count - clean_data_count))\n",
    "    return data\n",
    "\n",
    "positive_data = load_keystrokes(\"key_logging/robert_stroke.log\")\n",
    "negative_data = load_keystrokes(\"key_logging/david_keystroke.log\")"
   ]
  },
  {
   "cell_type": "code",
   "execution_count": 3,
   "metadata": {
    "collapsed": true
   },
   "outputs": [],
   "source": [
    "# muddle positive time_delta data to generate negative samples\n",
    "NUM_EXAMPLES = 100000\n",
    "SEQ_LENGTH = 50\n",
    "\n",
    "assert all(len(data) >= SEQ_LENGTH for data in [positive_data, negative_data]), 'need at least SEQ_LENGTH events'\n",
    "\n",
    "def random_sub_seq(xs):\n",
    "    # TODO extend to support variable size sequences\n",
    "    start = int(np.random.uniform(0, len(xs) - SEQ_LENGTH))\n",
    "    end = start + SEQ_LENGTH\n",
    "    return xs[start:end]\n",
    "\n",
    "train_input = []\n",
    "train_output = []\n",
    "\n",
    "for i in range(NUM_EXAMPLES * 10):\n",
    "    if np.random.rand() < 0.5:\n",
    "        # positive sample\n",
    "        train_input.append(random_sub_seq(positive_data))\n",
    "        train_output.append([1, 0])\n",
    "    else:\n",
    "        # negative sample\n",
    "        train_input.append(random_sub_seq(negative_data))\n",
    "        train_output.append([0, 1])"
   ]
  },
  {
   "cell_type": "code",
   "execution_count": 4,
   "metadata": {
    "collapsed": false
   },
   "outputs": [
    {
     "name": "stdout",
     "output_type": "stream",
     "text": [
      "test and training data loaded\n"
     ]
    }
   ],
   "source": [
    "test_input = train_input[NUM_EXAMPLES:]\n",
    "test_output = train_output[NUM_EXAMPLES:]\n",
    "train_input = train_input[:NUM_EXAMPLES]\n",
    "train_output = train_output[:NUM_EXAMPLES]\n",
    "\n",
    "print(\"test and training data loaded\")"
   ]
  },
  {
   "cell_type": "code",
   "execution_count": 5,
   "metadata": {
    "collapsed": false
   },
   "outputs": [
    {
     "name": "stderr",
     "output_type": "stream",
     "text": [
      "/usr/local/lib/python3.5/site-packages/tensorflow/python/ops/gradients_impl.py:91: UserWarning: Converting sparse IndexedSlices to a dense Tensor of unknown shape. This may consume a large amount of memory.\n",
      "  \"Converting sparse IndexedSlices to a dense Tensor of unknown shape. \"\n"
     ]
    }
   ],
   "source": [
    "data = tf.placeholder(tf.float32, [None, SEQ_LENGTH,3]) #Number of examples, number of input, dimension of each input\n",
    "target = tf.placeholder(tf.float32, [None, 2])\n",
    "num_hidden = 32\n",
    "cell = tf.nn.rnn_cell.LSTMCell(num_hidden,state_is_tuple=True)\n",
    "val, _ = tf.nn.dynamic_rnn(cell, data, dtype=tf.float32)\n",
    "val = tf.transpose(val, [1, 0, 2])\n",
    "last = tf.gather(val, int(val.get_shape()[0]) - 1)\n",
    "weight = tf.Variable(tf.truncated_normal([num_hidden, int(target.get_shape()[1])]))\n",
    "bias = tf.Variable(tf.constant(0.1, shape=[target.get_shape()[1]]))\n",
    "prediction = tf.nn.softmax(tf.matmul(last, weight) + bias)\n",
    "cross_entropy = -tf.reduce_sum(target * tf.log(prediction))\n",
    "optimizer = tf.train.AdamOptimizer()\n",
    "minimize = optimizer.minimize(cross_entropy)\n",
    "mistakes = tf.not_equal(tf.argmax(target, 1), tf.argmax(prediction, 1))\n",
    "error = tf.reduce_mean(tf.cast(mistakes, tf.float32))"
   ]
  },
  {
   "cell_type": "code",
   "execution_count": 6,
   "metadata": {
    "collapsed": true
   },
   "outputs": [],
   "source": [
    "sess = tf.Session()\n",
    "saver = tf.train.Saver()"
   ]
  },
  {
   "cell_type": "code",
   "execution_count": 7,
   "metadata": {
    "collapsed": false
   },
   "outputs": [
    {
     "name": "stdout",
     "output_type": "stream",
     "text": [
      "Model restored.\n"
     ]
    }
   ],
   "source": [
    "saver.restore(sess, \"./model_normal.ckpt\")\n",
    "print(\"Model restored.\")"
   ]
  },
  {
   "cell_type": "code",
   "execution_count": 8,
   "metadata": {
    "collapsed": true
   },
   "outputs": [],
   "source": [
    "good = [test_input[i] for i in range(len(test_output)) if test_output[i] == [1, 0]]\n",
    "bad = [test_input[i] for i in range(len(test_output)) if test_output[i] == [0, 1]]"
   ]
  },
  {
   "cell_type": "code",
   "execution_count": 9,
   "metadata": {
    "collapsed": false
   },
   "outputs": [
    {
     "name": "stdout",
     "output_type": "stream",
     "text": [
      "true positive:  0.992866\n",
      "true negative:  0.986786\n"
     ]
    }
   ],
   "source": [
    "print(\"true positive: \", sess.run(prediction,{data: good}).mean(axis=0)[0])\n",
    "print(\"true negative: \", sess.run(prediction,{data: bad}).mean(axis=0)[1])"
   ]
  },
  {
   "cell_type": "code",
   "execution_count": 10,
   "metadata": {
    "collapsed": false
   },
   "outputs": [
    {
     "name": "stdout",
     "output_type": "stream",
     "text": [
      "449130 450870\n"
     ]
    }
   ],
   "source": [
    "print(len(good), len(bad))"
   ]
  },
  {
   "cell_type": "code",
   "execution_count": 11,
   "metadata": {
    "collapsed": false
   },
   "outputs": [
    {
     "data": {
      "text/plain": [
       "[<matplotlib.lines.Line2D at 0x111af7160>]"
      ]
     },
     "execution_count": 11,
     "metadata": {},
     "output_type": "execute_result"
    },
    {
     "data": {
      "image/png": "[encoded data removed]",
      "text/plain": [
       "<matplotlib.figure.Figure at 0x111af70f0>"
      ]
     },
     "metadata": {},
     "output_type": "display_data"
    }
   ],
   "source": [
    "history = []\n",
    "\n",
    "data_source = positive_data\n",
    "data_len = 100\n",
    "\n",
    "for i in range(10):\n",
    "    history += data_source[i * data_len: (i+1) * data_len]\n",
    "        \n",
    "    if data_source == positive_data:\n",
    "        data_source = negative_data\n",
    "    else:\n",
    "        data_source = positive_data\n",
    "        \n",
    "prediction_history = []\n",
    "for i in range(0, len(history) - SEQ_LENGTH):\n",
    "    sample = history[i: i + SEQ_LENGTH]\n",
    "    result = sess.run(prediction,{data: [sample]})[0]\n",
    "    prediction_history.append((result[0] - 0.5) * 2)\n",
    "    \n",
    "plt.scatter(range(len(prediction_history)), prediction_history, color=['g' if h > 0 else 'r' for h in prediction_history])\n",
    "plt.plot([0] * len(prediction_history), color='b')"
   ]
  },
  {
   "cell_type": "code",
   "execution_count": null,
   "metadata": {
    "collapsed": true
   },
   "outputs": [],
   "source": []
  }
 ],
 "metadata": {
  "kernelspec": {
   "display_name": "Python 3",
   "language": "python",
   "name": "python3"
  },
  "language_info": {
   "codemirror_mode": {
    "name": "ipython",
    "version": 3
   },
   "file_extension": ".py",
   "mimetype": "text/x-python",
   "name": "python",
   "nbconvert_exporter": "python",
   "pygments_lexer": "ipython3",
   "version": "3.5.1"
  }
 },
 "nbformat": 4,
 "nbformat_minor": 1
}
